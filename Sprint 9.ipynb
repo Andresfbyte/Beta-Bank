{
 "cells": [
  {
   "cell_type": "markdown",
   "metadata": {},
   "source": [
    "¡Hola!\n",
    "\n",
    "Mi nombre es Tonatiuh Cruz. Me complace revisar tu proyecto hoy.\n",
    "\n",
    "Al identificar cualquier error inicialmente, simplemente los destacaré. Te animo a localizar y abordar los problemas de forma independiente como parte de tu preparación para un rol como data-scientist. En un entorno profesional, tu líder de equipo seguiría un enfoque similar. Si encuentras la tarea desafiante, proporcionaré una pista más específica en la próxima iteración.\n",
    "\n",
    "Encontrarás mis comentarios a continuación - **por favor no los muevas, modifiques o elimines**.\n",
    "\n",
    "Puedes encontrar mis comentarios en cajas verdes, amarillas o rojas como esta:\n",
    "\n",
    "<div class=\"alert alert-block alert-success\">\n",
    "<b>Comentario del revisor</b> <a class=\"tocSkip\"></a>\n",
    "\n",
    "Éxito. Todo está hecho correctamente.\n",
    "</div>\n",
    "\n",
    "<div class=\"alert alert-block alert-warning\">\n",
    "<b>Comentario del revisor</b> <a class=\"tocSkip\"></a>\n",
    "\n",
    "Observaciones. Algunas recomendaciones.\n",
    "</div>\n",
    "\n",
    "<div class=\"alert alert-block alert-danger\">\n",
    "<b>Comentario del revisor</b> <a class=\"tocSkip\"></a>\n",
    "\n",
    "Necesita corrección. El bloque requiere algunas correcciones. El trabajo no puede ser aceptado con comentarios en rojo.\n",
    "</div>\n",
    "\n",
    "Puedes responderme utilizando esto:\n",
    "\n",
    "<div class=\"alert alert-block alert-info\">\n",
    "<b>Respuesta del estudiante.</b> <a class=\"tocSkip\"></a>\n",
    "</div>"
   ]
  },
  {
   "cell_type": "markdown",
   "metadata": {},
   "source": [
    "# Introduccion\n",
    "\n",
    "Los clientes de Beta Bank estan dejando cancelando sus cuentas bancarias mes a mes, los banqueros prefieren salvar a sus clientes actuales que atraer nuevos, realizaremos un modelo que los ayude a conocer mejor a sus clientes con un margen de efectivdad cercano al 60%.\n",
    "\n",
    "\n"
   ]
  },
  {
   "cell_type": "markdown",
   "metadata": {},
   "source": [
    "# Objetivos\n",
    "\n",
    "- Importar las librerias necesarias para nuestro proyecto\n",
    "- Generar modelos de sin tener en cuenta el desequilibrio en las caracterisitcas\n",
    "- Mejorar la calidad del modelo con diferentes modifcaciones en sus parametros"
   ]
  },
  {
   "cell_type": "markdown",
   "metadata": {},
   "source": [
    "## Importamos las librerias necesarias"
   ]
  },
  {
   "cell_type": "code",
   "execution_count": 1,
   "metadata": {},
   "outputs": [],
   "source": [
    "# Importamos librerias\n",
    "import pandas as pd\n",
    "import numpy as np\n",
    "from sklearn.model_selection import train_test_split\n",
    "from sklearn.metrics import accuracy_score\n",
    "from sklearn.tree import DecisionTreeClassifier\n",
    "from sklearn.ensemble import RandomForestClassifier\n",
    "from sklearn.linear_model import LogisticRegression\n",
    "from sklearn.preprocessing import OrdinalEncoder\n",
    "from sklearn.preprocessing import StandardScaler\n",
    "from sklearn.metrics import confusion_matrix\n",
    "from sklearn.metrics import recall_score\n",
    "from sklearn.metrics import precision_score\n",
    "from sklearn.metrics import f1_score, classification_report\n",
    "from sklearn.utils import shuffle\n",
    "from sklearn.metrics import roc_auc_score\n",
    "from sklearn.model_selection import cross_val_score\n",
    "from sklearn.preprocessing import OneHotEncoder\n",
    "from sklearn.model_selection import GridSearchCV\n",
    "import matplotlib.pyplot as plt\n",
    "from sklearn.metrics import precision_recall_curve\n",
    "from sklearn.model_selection import cross_validate"
   ]
  },
  {
   "cell_type": "markdown",
   "metadata": {},
   "source": [
    "## Leemos el dataset"
   ]
  },
  {
   "cell_type": "code",
   "execution_count": 2,
   "metadata": {},
   "outputs": [],
   "source": [
    "# Leemos el dataset\n",
    "data = pd.read_csv('/datasets/Churn.csv')"
   ]
  },
  {
   "cell_type": "markdown",
   "metadata": {},
   "source": [
    "## Identificamos valores nulos"
   ]
  },
  {
   "cell_type": "code",
   "execution_count": 3,
   "metadata": {},
   "outputs": [
    {
     "name": "stdout",
     "output_type": "stream",
     "text": [
      "<class 'pandas.core.frame.DataFrame'>\n",
      "RangeIndex: 10000 entries, 0 to 9999\n",
      "Data columns (total 14 columns):\n",
      " #   Column           Non-Null Count  Dtype  \n",
      "---  ------           --------------  -----  \n",
      " 0   RowNumber        10000 non-null  int64  \n",
      " 1   CustomerId       10000 non-null  int64  \n",
      " 2   Surname          10000 non-null  object \n",
      " 3   CreditScore      10000 non-null  int64  \n",
      " 4   Geography        10000 non-null  object \n",
      " 5   Gender           10000 non-null  object \n",
      " 6   Age              10000 non-null  int64  \n",
      " 7   Tenure           9091 non-null   float64\n",
      " 8   Balance          10000 non-null  float64\n",
      " 9   NumOfProducts    10000 non-null  int64  \n",
      " 10  HasCrCard        10000 non-null  int64  \n",
      " 11  IsActiveMember   10000 non-null  int64  \n",
      " 12  EstimatedSalary  10000 non-null  float64\n",
      " 13  Exited           10000 non-null  int64  \n",
      "dtypes: float64(3), int64(8), object(3)\n",
      "memory usage: 1.1+ MB\n",
      "\n",
      "   RowNumber  CustomerId   Surname  CreditScore Geography  Gender  Age  \\\n",
      "0          1    15634602  Hargrave          619    France  Female   42   \n",
      "1          2    15647311      Hill          608     Spain  Female   41   \n",
      "2          3    15619304      Onio          502    France  Female   42   \n",
      "3          4    15701354      Boni          699    France  Female   39   \n",
      "4          5    15737888  Mitchell          850     Spain  Female   43   \n",
      "\n",
      "   Tenure    Balance  NumOfProducts  HasCrCard  IsActiveMember  \\\n",
      "0     2.0       0.00              1          1               1   \n",
      "1     1.0   83807.86              1          0               1   \n",
      "2     8.0  159660.80              3          1               0   \n",
      "3     1.0       0.00              2          0               0   \n",
      "4     2.0  125510.82              1          1               1   \n",
      "\n",
      "   EstimatedSalary  Exited  \n",
      "0        101348.88       1  \n",
      "1        112542.58       0  \n",
      "2        113931.57       1  \n",
      "3         93826.63       0  \n",
      "4         79084.10       0  \n"
     ]
    }
   ],
   "source": [
    "# Analisis preeliminar de los datos\n",
    "data.info()\n",
    "print()\n",
    "print(data.head())"
   ]
  },
  {
   "cell_type": "markdown",
   "metadata": {},
   "source": [
    "Nuestro dataset cuenta con cerca de 900 valores nulos en la columna 'Tenure', procederemos a corregir utilizando la mediana."
   ]
  },
  {
   "cell_type": "markdown",
   "metadata": {},
   "source": [
    "## Corregimos valores nulos"
   ]
  },
  {
   "cell_type": "code",
   "execution_count": 4,
   "metadata": {},
   "outputs": [
    {
     "name": "stdout",
     "output_type": "stream",
     "text": [
      "RowNumber          0\n",
      "CustomerId         0\n",
      "Surname            0\n",
      "CreditScore        0\n",
      "Geography          0\n",
      "Gender             0\n",
      "Age                0\n",
      "Tenure             0\n",
      "Balance            0\n",
      "NumOfProducts      0\n",
      "HasCrCard          0\n",
      "IsActiveMember     0\n",
      "EstimatedSalary    0\n",
      "Exited             0\n",
      "dtype: int64\n"
     ]
    },
    {
     "data": {
      "text/plain": [
       "0.2037"
      ]
     },
     "execution_count": 4,
     "metadata": {},
     "output_type": "execute_result"
    }
   ],
   "source": [
    "data['Tenure'].fillna(data['Tenure'].median(), inplace=True)\n",
    "print(data.isnull().sum())\n",
    "data['Exited'].mean()"
   ]
  },
  {
   "cell_type": "markdown",
   "metadata": {},
   "source": [
    "Los valores nulos fueron corregidos"
   ]
  },
  {
   "cell_type": "markdown",
   "metadata": {},
   "source": [
    "<div class=\"alert alert-block alert-success\">\n",
    "<b>Comentario del revisor</b> <a class=\"tocSkip\"></a>\n",
    "\n",
    "Excelente trabajo en la preparación inicial de los datos! Eliminar los duplicados, cambiar el nombre de las columnas a un formato adecuado para el código y manejar los valores ausentes es muy importante tanto para tener un código ordenado y legible como para evitar sesgos durante el entrenamiento del modelo debido a datos faltantes. Tu propuesta de llenar los faltantes con la mediana es muy buena debido a que este estadístico es menos sensible a los outliers que la media.\n",
    "</div>"
   ]
  },
  {
   "cell_type": "markdown",
   "metadata": {},
   "source": [
    "## Categorizacion y estandarizacion"
   ]
  },
  {
   "cell_type": "code",
   "execution_count": 5,
   "metadata": {},
   "outputs": [
    {
     "name": "stdout",
     "output_type": "stream",
     "text": [
      "(7500, 2944)\n"
     ]
    },
    {
     "name": "stderr",
     "output_type": "stream",
     "text": [
      "/tmp/ipykernel_31/3417519993.py:12: SettingWithCopyWarning: \n",
      "A value is trying to be set on a copy of a slice from a DataFrame.\n",
      "Try using .loc[row_indexer,col_indexer] = value instead\n",
      "\n",
      "See the caveats in the documentation: https://pandas.pydata.org/pandas-docs/stable/user_guide/indexing.html#returning-a-view-versus-a-copy\n",
      "  features_train[numeric] = scaler.transform(features_train[numeric])\n",
      "/opt/conda/envs/python3/lib/python3.9/site-packages/pandas/core/indexing.py:1738: SettingWithCopyWarning: \n",
      "A value is trying to be set on a copy of a slice from a DataFrame.\n",
      "Try using .loc[row_indexer,col_indexer] = value instead\n",
      "\n",
      "See the caveats in the documentation: https://pandas.pydata.org/pandas-docs/stable/user_guide/indexing.html#returning-a-view-versus-a-copy\n",
      "  self._setitem_single_column(loc, value[:, i].tolist(), pi)\n",
      "/tmp/ipykernel_31/3417519993.py:13: SettingWithCopyWarning: \n",
      "A value is trying to be set on a copy of a slice from a DataFrame.\n",
      "Try using .loc[row_indexer,col_indexer] = value instead\n",
      "\n",
      "See the caveats in the documentation: https://pandas.pydata.org/pandas-docs/stable/user_guide/indexing.html#returning-a-view-versus-a-copy\n",
      "  features_valid[numeric] = scaler.transform(features_valid[numeric])\n",
      "/opt/conda/envs/python3/lib/python3.9/site-packages/pandas/core/indexing.py:1738: SettingWithCopyWarning: \n",
      "A value is trying to be set on a copy of a slice from a DataFrame.\n",
      "Try using .loc[row_indexer,col_indexer] = value instead\n",
      "\n",
      "See the caveats in the documentation: https://pandas.pydata.org/pandas-docs/stable/user_guide/indexing.html#returning-a-view-versus-a-copy\n",
      "  self._setitem_single_column(loc, value[:, i].tolist(), pi)\n"
     ]
    }
   ],
   "source": [
    "# Creamos una instancia de clase\n",
    "data_ohe = pd.get_dummies(data, drop_first=True)\n",
    "target = data_ohe['Exited']\n",
    "features = data_ohe.drop('Exited', axis=1)\n",
    "features_train, features_valid, target_train, target_valid = train_test_split(\n",
    "    features, target, test_size=0.25, random_state=12345)\n",
    "\n",
    "numeric = ['CreditScore', 'Age', 'Tenure', 'Balance','EstimatedSalary']\n",
    "\n",
    "scaler = StandardScaler()\n",
    "scaler.fit(features_train[numeric])\n",
    "features_train[numeric] = scaler.transform(features_train[numeric])\n",
    "features_valid[numeric] = scaler.transform(features_valid[numeric])\n",
    "print(features_train.shape)"
   ]
  },
  {
   "cell_type": "markdown",
   "metadata": {},
   "source": [
    "<div class=\"alert alert-block alert-success\">\n",
    "<b>Comentario del revisor</b> <a class=\"tocSkip\"></a>\n",
    "\n",
    "Muy bien! Eliminar las variables que no tienen relación con la variable target es muy importante para no aumentar los tiempos de entrenamiento ni de predicción, además codificaste los datos a OHE para poder utiliar modelos que no pueden manejar las variables categóricas en Ordinal Encoding sin imponer una relación lineal entre los valores. Dividir los datos en 3 conjuntos en vez de 2 tembién es muy importante ya que el conjunto de validación puede ser muy útil para el ajuste de los hiperparámetros y el escalado de los datos es el óptimo para evitar que variables con una escala mayor tengan un efecto mayor artificial sobre quellas con una dimensión menor.\n",
    "</div>"
   ]
  },
  {
   "cell_type": "markdown",
   "metadata": {},
   "source": [
    "## Exactitud para el arbol de decision"
   ]
  },
  {
   "cell_type": "code",
   "execution_count": 6,
   "metadata": {},
   "outputs": [
    {
     "name": "stdout",
     "output_type": "stream",
     "text": [
      "0.8152\n"
     ]
    }
   ],
   "source": [
    "#Entrenamos el modelo\n",
    "model = DecisionTreeClassifier(random_state=12345)\n",
    "model.fit(features_train, target_train)\n",
    "predicted_valid = model.predict(features_valid)\n",
    "\n",
    "accuracy_valid = accuracy_score(target_valid, predicted_valid)\n",
    "\n",
    "print(accuracy_valid)"
   ]
  },
  {
   "cell_type": "code",
   "execution_count": 7,
   "metadata": {},
   "outputs": [
    {
     "name": "stdout",
     "output_type": "stream",
     "text": [
      "[[1783  182]\n",
      " [ 280  255]]\n"
     ]
    }
   ],
   "source": [
    "matrix = confusion_matrix(target_valid,predicted_valid)\n",
    "print(matrix)"
   ]
  },
  {
   "cell_type": "code",
   "execution_count": 8,
   "metadata": {},
   "outputs": [
    {
     "name": "stdout",
     "output_type": "stream",
     "text": [
      "0.4766355140186916\n"
     ]
    }
   ],
   "source": [
    "print(recall_score(target_valid, predicted_valid))"
   ]
  },
  {
   "cell_type": "code",
   "execution_count": 9,
   "metadata": {},
   "outputs": [
    {
     "name": "stdout",
     "output_type": "stream",
     "text": [
      "0.5835240274599542\n"
     ]
    }
   ],
   "source": [
    "print(precision_score(target_valid, predicted_valid))"
   ]
  },
  {
   "cell_type": "code",
   "execution_count": 10,
   "metadata": {
    "scrolled": true
   },
   "outputs": [
    {
     "name": "stdout",
     "output_type": "stream",
     "text": [
      "0.5246913580246914\n"
     ]
    }
   ],
   "source": [
    "f1 = f1_score(target_valid, model.predict(features_valid))\n",
    "print (f1)"
   ]
  },
  {
   "cell_type": "markdown",
   "metadata": {},
   "source": [
    "En general el modelo tiene margen de mejora, ya que nuestro valor de f1 fue del 0.52, lo cual indica que tiene un margen de aceptacion moderado, teniendo en cuenta los valores arrojados por la matrix, se estan analizando mas los grupos de la clase 0, la mayoritaria, y hay un gran margen de error con la clase 1, la minoritaria."
   ]
  },
  {
   "cell_type": "markdown",
   "metadata": {},
   "source": [
    "<div class=\"alert alert-block alert-danger\">\n",
    "<b>Comentario del revisor</b> <a class=\"tocSkip\"></a>\n",
    "\n",
    "Muy bien, entrenaste de forma adecuada los modelos. Solamente te recomiendo desarrollar otro modelo (bosque aleatorio) y  ajustastar con los hiperparámetros a la opción más óptima dada la restricción de no tomar en cuenta el desequilibrio de clases. \n",
    "</div>"
   ]
  },
  {
   "cell_type": "markdown",
   "metadata": {},
   "source": [
    "<div class=\"alert alert-block alert-success\">\n",
    "<b>Comentario del revisor</b> <a class=\"tocSkip\"></a>\n",
    "\n",
    "Gran trabajo con los ajustes!\n",
    "</div>"
   ]
  },
  {
   "cell_type": "markdown",
   "metadata": {},
   "source": [
    "## Ramdom forest"
   ]
  },
  {
   "cell_type": "code",
   "execution_count": null,
   "metadata": {},
   "outputs": [],
   "source": [
    "# Definir el modelo\n",
    "model_rf = RandomForestClassifier(random_state=12345)\n",
    "\n",
    "# Ajustar el modelo\n",
    "model_rf.fit(features_upsampled, target_upsampled)"
   ]
  },
  {
   "cell_type": "code",
   "execution_count": 20,
   "metadata": {},
   "outputs": [
    {
     "name": "stdout",
     "output_type": "stream",
     "text": [
      "F1 Score with adjusted threshold: 0.6228813559322035\n",
      "Classification Report with adjusted threshold:\n",
      "               precision    recall  f1-score   support\n",
      "\n",
      "           0       0.91      0.86      0.88      1573\n",
      "           1       0.57      0.69      0.62       427\n",
      "\n",
      "    accuracy                           0.82      2000\n",
      "   macro avg       0.74      0.77      0.75      2000\n",
      "weighted avg       0.84      0.82      0.83      2000\n",
      "\n"
     ]
    }
   ],
   "source": [
    "\n",
    "# Obtener las probabilidades de predicción\n",
    "probabilities = model_rf.predict_proba(features_valid)[:, 1]\n",
    "\n",
    "# Calcular la curva de precisión y recall\n",
    "precision, recall, thresholds = precision_recall_curve(target_valid, probabilities)\n",
    "\n",
    "# Encontrar el umbral que maximiza el F1 Score\n",
    "f1_scores = 2 * (precision * recall) / (precision + recall)\n",
    "best_threshold = thresholds[f1_scores.argmax()]\n",
    "\n",
    "# Aplicar el mejor umbral\n",
    "predicted_valid_adjusted = (probabilities >= best_threshold).astype(int)\n",
    "\n",
    "# Evaluar el modelo con el umbral ajustado\n",
    "print('F1 Score with adjusted threshold:', f1_score(target_valid, predicted_valid_adjusted))\n",
    "print('Classification Report with adjusted threshold:\\n', classification_report(target_valid, predicted_valid_adjusted))"
   ]
  },
  {
   "cell_type": "markdown",
   "metadata": {},
   "source": [
    "## Ajuste de peso de clase"
   ]
  },
  {
   "cell_type": "code",
   "execution_count": 11,
   "metadata": {},
   "outputs": [
    {
     "name": "stdout",
     "output_type": "stream",
     "text": [
      "F1: 0.5051020408163265\n"
     ]
    }
   ],
   "source": [
    "target = data_ohe['Exited']\n",
    "features = data_ohe.drop('Exited', axis=1)\n",
    "features_train, features_valid, target_train, target_valid = train_test_split(\n",
    "    features, target, test_size=0.2, random_state=12345\n",
    ")\n",
    "\n",
    "model = LogisticRegression(random_state=12345, solver='liblinear',class_weight='balanced')\n",
    "model.fit(features_train, target_train)\n",
    "predicted_valid = model.predict(features_valid)\n",
    "print('F1:', f1_score(target_valid, predicted_valid))"
   ]
  },
  {
   "cell_type": "markdown",
   "metadata": {},
   "source": [
    "Ajustar los pesos no funciono, se desmojoro nuestro modelo, esto por la disminucion en el valor de f1"
   ]
  },
  {
   "cell_type": "markdown",
   "metadata": {},
   "source": [
    "## Sobremuestreo"
   ]
  },
  {
   "cell_type": "code",
   "execution_count": 12,
   "metadata": {},
   "outputs": [
    {
     "name": "stdout",
     "output_type": "stream",
     "text": [
      "F1 Score: 0.49582637729549245\n",
      "Classification Report:\n",
      "              precision    recall  f1-score   support\n",
      "\n",
      "           0       0.89      0.70      0.78      1573\n",
      "           1       0.39      0.70      0.50       427\n",
      "\n",
      "    accuracy                           0.70      2000\n",
      "   macro avg       0.64      0.70      0.64      2000\n",
      "weighted avg       0.79      0.70      0.72      2000\n",
      "\n"
     ]
    }
   ],
   "source": [
    "target = data_ohe['Exited']\n",
    "features = data_ohe.drop('Exited', axis=1)\n",
    "features_train, features_valid, target_train, target_valid = train_test_split(\n",
    "    features, target, test_size=0.2, random_state=12345\n",
    "\n",
    ")\n",
    "\n",
    "def upsample(features, target, repeat):\n",
    "    features_zeros = features[target == 0]\n",
    "    features_ones = features[target == 1]\n",
    "    target_zeros = target[target == 0]\n",
    "    target_ones = target[target == 1]\n",
    "\n",
    "    # Replicar las instancias de la clase minoritaria\n",
    "    features_upsampled = pd.concat([features_zeros] + [features_ones] * repeat)\n",
    "    target_upsampled = pd.concat([target_zeros] + [target_ones] * repeat)\n",
    "\n",
    "    features_upsampled, target_upsampled = shuffle(\n",
    "        features_upsampled, target_upsampled, random_state=12345\n",
    "    )\n",
    "\n",
    "    return features_upsampled, target_upsampled\n",
    "\n",
    "# Aplicar sobremuestreo\n",
    "features_upsampled, target_upsampled = upsample(features_train, target_train, 4)\n",
    "\n",
    "# Entrenar el modelo\n",
    "model = LogisticRegression(random_state=12345, solver='liblinear')\n",
    "model.fit(features_upsampled, target_upsampled)\n",
    "\n",
    "# Hacer predicciones en el conjunto de validación\n",
    "predicted_valid = model.predict(features_valid)\n",
    "\n",
    "# Evaluar el modelo\n",
    "print('F1 Score:', f1_score(target_valid, predicted_valid))\n",
    "print('Classification Report:')\n",
    "print(classification_report(target_valid, predicted_valid))\n",
    "\n"
   ]
  },
  {
   "cell_type": "markdown",
   "metadata": {},
   "source": [
    "El resultado con el sobremuestreo es similar, no hay una mejoria en el modelo"
   ]
  },
  {
   "cell_type": "markdown",
   "metadata": {},
   "source": [
    "<div class=\"alert alert-block alert-success\">\n",
    "<b>Comentario del revisor</b> <a class=\"tocSkip\"></a>\n",
    "\n",
    "Muy buena función para realizar el sobremuestreo.\n",
    "</div>"
   ]
  },
  {
   "cell_type": "markdown",
   "metadata": {},
   "source": [
    "## Submuestreo"
   ]
  },
  {
   "cell_type": "code",
   "execution_count": 13,
   "metadata": {
    "scrolled": true
   },
   "outputs": [
    {
     "name": "stdout",
     "output_type": "stream",
     "text": [
      "(2249, 2944)\n",
      "(2249,)\n",
      "\n",
      "F1: 0.3518747424804285\n"
     ]
    }
   ],
   "source": [
    "def downsample(features, target, fraction):\n",
    "    features_zeros = features[target == 0]\n",
    "    features_ones = features[target == 1]\n",
    "    target_zeros = target[target == 0]\n",
    "    target_ones = target[target == 1]\n",
    "\n",
    "    features_downsampled = pd.concat(\n",
    "        [features_zeros.sample(frac=fraction, random_state=12345)]\n",
    "        + [features_ones]\n",
    "    )\n",
    "    target_downsampled = pd.concat(\n",
    "        [target_zeros.sample(frac=fraction, random_state=12345)]\n",
    "        + [target_ones]\n",
    "    )\n",
    "\n",
    "    features_downsampled, target_downsampled = shuffle(\n",
    "        features_downsampled, target_downsampled, random_state=12345\n",
    "    )\n",
    "\n",
    "    return features_downsampled, target_downsampled\n",
    "\n",
    "\n",
    "features_downsampled, target_downsampled = downsample(\n",
    "    features_train, target_train, 0.1\n",
    ")\n",
    "\n",
    "print(features_downsampled.shape)\n",
    "print(target_downsampled.shape)\n",
    "print()\n",
    "model = LogisticRegression(random_state=12345, solver='liblinear')\n",
    "model.fit(features_downsampled, target_downsampled)\n",
    "predicted_valid = model.predict(features_valid)\n",
    "\n",
    "print('F1:', f1_score(target_valid, predicted_valid))"
   ]
  },
  {
   "cell_type": "markdown",
   "metadata": {},
   "source": [
    "El submuestro tampoco es la solucion, ya que hubo una desmejoria notable en nuestro modelo"
   ]
  },
  {
   "cell_type": "markdown",
   "metadata": {},
   "source": [
    "## Ajuste del umbral"
   ]
  },
  {
   "cell_type": "code",
   "execution_count": 14,
   "metadata": {},
   "outputs": [
    {
     "name": "stdout",
     "output_type": "stream",
     "text": [
      "Threshold = 0.00 | Precision = 0.213, Recall = 1.000\n",
      "Threshold = 0.02 | Precision = 0.213, Recall = 1.000\n",
      "Threshold = 0.04 | Precision = 0.213, Recall = 1.000\n",
      "Threshold = 0.06 | Precision = 0.213, Recall = 1.000\n",
      "Threshold = 0.08 | Precision = 0.213, Recall = 1.000\n",
      "Threshold = 0.10 | Precision = 0.213, Recall = 1.000\n",
      "Threshold = 0.12 | Precision = 0.213, Recall = 1.000\n",
      "Threshold = 0.14 | Precision = 0.223, Recall = 0.956\n",
      "Threshold = 0.16 | Precision = 0.252, Recall = 0.763\n",
      "Threshold = 0.18 | Precision = 0.251, Recall = 0.747\n",
      "Threshold = 0.20 | Precision = 0.253, Recall = 0.686\n",
      "Threshold = 0.22 | Precision = 0.251, Recall = 0.522\n",
      "Threshold = 0.24 | Precision = 0.236, Recall = 0.274\n",
      "Threshold = 0.26 | Precision = 0.259, Recall = 0.119\n",
      "Threshold = 0.28 | Precision = 0.311, Recall = 0.044\n"
     ]
    }
   ],
   "source": [
    "model = LogisticRegression(random_state=12345, solver='liblinear')\n",
    "model.fit(features_train, target_train)\n",
    "probabilities_valid = model.predict_proba(features_valid)\n",
    "probabilities_one_valid = probabilities_valid[:, 1]\n",
    "\n",
    "for threshold in np.arange(0, 0.3, 0.02):\n",
    "    predicted_valid = probabilities_one_valid > threshold\n",
    "    precision = precision_score(target_valid, predicted_valid)\n",
    "    recall = recall_score(target_valid, predicted_valid)\n",
    "    print(\n",
    "        'Threshold = {:.2f} | Precision = {:.3f}, Recall = {:.3f}'.format(\n",
    "            threshold, precision, recall\n",
    "        )\n",
    "    )"
   ]
  },
  {
   "cell_type": "code",
   "execution_count": 15,
   "metadata": {},
   "outputs": [
    {
     "data": {
      "image/png": "[encoded data removed]",
      "text/plain": [
       "<Figure size 600x600 with 1 Axes>"
      ]
     },
     "metadata": {},
     "output_type": "display_data"
    }
   ],
   "source": [
    "model = LogisticRegression(random_state=12345, solver='liblinear')\n",
    "model.fit(features_train, target_train)\n",
    "\n",
    "probabilities_valid = model.predict_proba(features_valid)\n",
    "precision, recall, thresholds = precision_recall_curve(\n",
    "    target_valid, probabilities_valid[:, 1]\n",
    ")\n",
    "plt.figure(figsize=(6, 6))\n",
    "plt.step(recall, precision, where='post')\n",
    "plt.xlabel('Recall')\n",
    "plt.ylabel('Precision')\n",
    "plt.ylim([0.0, 1.05])\n",
    "plt.xlim([0.0, 1.0])\n",
    "plt.title('Precision-Recall Curve')\n",
    "plt.show()"
   ]
  },
  {
   "cell_type": "markdown",
   "metadata": {},
   "source": [
    "El ajuste del umbral indica que el modelo no va a mejorar mas con valores que superen entre el 2.0 y el 2.5 de margen."
   ]
  },
  {
   "cell_type": "markdown",
   "metadata": {},
   "source": [
    "<div class=\"alert alert-block alert-success\">\n",
    "<b>Comentario del revisor</b> <a class=\"tocSkip\"></a>\n",
    "\n",
    "Muy buen trabajo tanto con el sobremuestreo y el submuestreo. Las funciones utilizadas para obtener el dataframe requerido para ambas técnicas fueron correctas y los resultados obtenidos son óptimos dado el ajuste de hiperparámetros y la preparación de datos excelente que realizaste. Además tu presentación de resultados es muy intuitiva y tus conclusiones cumplen con el objetivo de la empresa del ejercicio.\n",
    "</div>"
   ]
  },
  {
   "cell_type": "markdown",
   "metadata": {},
   "source": []
  },
  {
   "cell_type": "code",
   "execution_count": 19,
   "metadata": {
    "scrolled": true
   },
   "outputs": [
    {
     "name": "stdout",
     "output_type": "stream",
     "text": [
      "0.5733774422299012\n"
     ]
    }
   ],
   "source": [
    "model = LogisticRegression(random_state=12345, solver='liblinear')\n",
    "model.fit(features_train, target_train)\n",
    "\n",
    "probabilities_valid = model.predict_proba(features_valid)\n",
    "probabilities_one_valid = probabilities_valid[:, 1]\n",
    "\n",
    "# < escribe el código aquí >\n",
    "auc_roc = roc_auc_score(target_valid, probabilities_one_valid)\n",
    "\n",
    "print(auc_roc)"
   ]
  },
  {
   "cell_type": "markdown",
   "metadata": {},
   "source": [
    "<div class=\"alert alert-block alert-success\">\n",
    "<b>Comentario del revisor</b> <a class=\"tocSkip\"></a>\n",
    "\n",
    "Excelente comparación con otro modelo como el random forest\n",
    "</div>"
   ]
  },
  {
   "cell_type": "code",
   "execution_count": null,
   "metadata": {},
   "outputs": [],
   "source": []
  },
  {
   "cell_type": "markdown",
   "metadata": {},
   "source": [
    "## Conclusion\n",
    "\n",
    "Se aplicaron multiples modelos para intentar el F1 inicial, pero ninguno daba mejoras, todos mostraron decrecimiento, los metodos de sobremuestreo y ajustes de clases decrecieron cerca del 0.1 los indices de f1, se aplico el metodo para mejorar el umbral pero no mostraba una mejora significativa, comparado con los umb"
   ]
  },
  {
   "cell_type": "markdown",
   "metadata": {},
   "source": [
    "<div class=\"alert alert-block alert-success\">\n",
    "<b>Resumen de la revisión</b> <a class=\"tocSkip\"></a>\n",
    "\n",
    "Es un muy buen trabajo. Cumples tanto con el objetivo del F1 y con satisfacer las necesidades de la empresa del ejercicio. La preparación de los datos toma en cuenta todas las características con las que debe cumplir un conjunto de datos óptimo para el entrenamiento de los modelos y la implementación de estos últimos fue muy buena ya que consideraste 3 técnicas distintas para solucionar el desequilibrio de clases que encontraste en la exploración de los datos. Sigue con el excelente trabajo! \n",
    "</div>"
   ]
  },
  {
   "cell_type": "markdown",
   "metadata": {},
   "source": [
    "<div class=\"alert alert-block alert-success\">\n",
    "<b>Comentario del revisor</b> <a class=\"tocSkip\"></a>\n",
    "\n",
    "Gran trabajo con los ajustes! Que sigas disfrutando los siguientes cursos!\n",
    "</div>"
   ]
  }
 ],
 "metadata": {
  "ExecuteTimeLog": [
   {
    "duration": 435,
    "start_time": "2024-08-18T00:38:56.301Z"
   },
   {
    "duration": 39,
    "start_time": "2024-08-18T00:39:29.402Z"
   },
   {
    "duration": 45,
    "start_time": "2024-08-18T00:40:16.890Z"
   },
   {
    "duration": 9,
    "start_time": "2024-08-18T00:40:30.596Z"
   },
   {
    "duration": 744,
    "start_time": "2024-08-18T00:41:22.755Z"
   },
   {
    "duration": 53,
    "start_time": "2024-08-18T00:43:00.517Z"
   },
   {
    "duration": 20,
    "start_time": "2024-08-18T00:43:12.519Z"
   },
   {
    "duration": 14,
    "start_time": "2024-08-18T00:58:42.405Z"
   },
   {
    "duration": 398,
    "start_time": "2024-08-18T01:12:58.489Z"
   },
   {
    "duration": 23,
    "start_time": "2024-08-18T01:13:08.543Z"
   },
   {
    "duration": 361,
    "start_time": "2024-08-18T01:16:58.133Z"
   },
   {
    "duration": 4,
    "start_time": "2024-08-18T01:17:11.955Z"
   },
   {
    "duration": 930,
    "start_time": "2024-08-18T01:17:14.654Z"
   },
   {
    "duration": 4,
    "start_time": "2024-08-18T01:30:23.466Z"
   },
   {
    "duration": 22,
    "start_time": "2024-08-18T01:30:25.559Z"
   },
   {
    "duration": 23,
    "start_time": "2024-08-18T01:30:27.773Z"
   },
   {
    "duration": 591,
    "start_time": "2024-08-18T01:30:33.594Z"
   },
   {
    "duration": 591,
    "start_time": "2024-08-18T01:31:59.495Z"
   },
   {
    "duration": 8,
    "start_time": "2024-08-18T01:32:51.982Z"
   },
   {
    "duration": 7,
    "start_time": "2024-08-18T01:33:45.401Z"
   },
   {
    "duration": 590,
    "start_time": "2024-08-18T01:35:07.359Z"
   },
   {
    "duration": 38,
    "start_time": "2024-08-18T01:36:28.950Z"
   },
   {
    "duration": 9,
    "start_time": "2024-08-18T01:37:32.829Z"
   },
   {
    "duration": 8,
    "start_time": "2024-08-18T01:37:49.437Z"
   },
   {
    "duration": 6,
    "start_time": "2024-08-18T01:38:01.888Z"
   },
   {
    "duration": 325,
    "start_time": "2024-08-18T06:20:57.487Z"
   },
   {
    "duration": 1207,
    "start_time": "2024-08-18T06:21:08.768Z"
   },
   {
    "duration": 41,
    "start_time": "2024-08-18T06:21:09.978Z"
   },
   {
    "duration": 31,
    "start_time": "2024-08-18T06:21:10.022Z"
   },
   {
    "duration": 6,
    "start_time": "2024-08-18T06:21:10.057Z"
   },
   {
    "duration": 143,
    "start_time": "2024-08-18T06:21:57.911Z"
   },
   {
    "duration": 10,
    "start_time": "2024-08-18T06:22:14.137Z"
   },
   {
    "duration": 586,
    "start_time": "2024-08-18T06:22:43.096Z"
   },
   {
    "duration": 559,
    "start_time": "2024-08-18T06:23:01.158Z"
   },
   {
    "duration": 26,
    "start_time": "2024-08-18T06:34:38.956Z"
   },
   {
    "duration": 29,
    "start_time": "2024-08-18T06:34:59.000Z"
   },
   {
    "duration": 4,
    "start_time": "2024-08-18T06:35:13.795Z"
   },
   {
    "duration": 74,
    "start_time": "2024-08-18T06:35:17.339Z"
   },
   {
    "duration": 139,
    "start_time": "2024-08-18T06:35:30.105Z"
   },
   {
    "duration": 5,
    "start_time": "2024-08-18T06:47:49.628Z"
   },
   {
    "duration": 302,
    "start_time": "2024-08-18T07:10:50.797Z"
   },
   {
    "duration": 1194,
    "start_time": "2024-08-18T07:10:55.471Z"
   },
   {
    "duration": 5,
    "start_time": "2024-08-18T07:10:59.512Z"
   },
   {
    "duration": 31,
    "start_time": "2024-08-18T07:10:59.521Z"
   },
   {
    "duration": 24,
    "start_time": "2024-08-18T07:10:59.555Z"
   },
   {
    "duration": 11,
    "start_time": "2024-08-18T07:10:59.582Z"
   },
   {
    "duration": 166,
    "start_time": "2024-08-18T07:10:59.597Z"
   },
   {
    "duration": 5,
    "start_time": "2024-08-18T07:10:59.766Z"
   },
   {
    "duration": 10,
    "start_time": "2024-08-18T07:11:16.573Z"
   },
   {
    "duration": 28,
    "start_time": "2024-08-18T07:17:18.404Z"
   },
   {
    "duration": 26,
    "start_time": "2024-08-18T07:18:08.381Z"
   },
   {
    "duration": 28,
    "start_time": "2024-08-18T07:18:31.508Z"
   },
   {
    "duration": 26,
    "start_time": "2024-08-18T07:18:36.005Z"
   },
   {
    "duration": 1008,
    "start_time": "2024-08-18T07:35:31.988Z"
   },
   {
    "duration": 335,
    "start_time": "2024-08-18T07:35:53.825Z"
   },
   {
    "duration": 366,
    "start_time": "2024-08-18T07:36:29.912Z"
   },
   {
    "duration": 355,
    "start_time": "2024-08-18T07:36:50.417Z"
   },
   {
    "duration": 4,
    "start_time": "2024-08-18T07:36:54.111Z"
   },
   {
    "duration": 339,
    "start_time": "2024-08-18T07:37:03.981Z"
   },
   {
    "duration": 289,
    "start_time": "2024-08-18T07:45:28.997Z"
   },
   {
    "duration": 1723,
    "start_time": "2024-08-18T07:46:42.143Z"
   },
   {
    "duration": 30,
    "start_time": "2024-08-18T08:09:49.800Z"
   },
   {
    "duration": 9,
    "start_time": "2024-08-18T08:15:11.152Z"
   },
   {
    "duration": 23,
    "start_time": "2024-08-18T08:16:52.846Z"
   },
   {
    "duration": 6,
    "start_time": "2024-08-18T08:17:06.321Z"
   },
   {
    "duration": 8,
    "start_time": "2024-08-18T08:17:10.206Z"
   },
   {
    "duration": 23,
    "start_time": "2024-08-18T08:43:06.519Z"
   },
   {
    "duration": 5,
    "start_time": "2024-08-18T08:43:31.508Z"
   },
   {
    "duration": 9,
    "start_time": "2024-08-18T08:43:35.117Z"
   },
   {
    "duration": 5,
    "start_time": "2024-08-18T08:44:10.740Z"
   },
   {
    "duration": 8,
    "start_time": "2024-08-18T08:44:33.993Z"
   },
   {
    "duration": 5,
    "start_time": "2024-08-18T08:47:16.022Z"
   },
   {
    "duration": 56,
    "start_time": "2024-08-18T08:47:19.319Z"
   },
   {
    "duration": 56,
    "start_time": "2024-08-18T08:47:31.471Z"
   },
   {
    "duration": 367,
    "start_time": "2024-08-18T08:57:16.182Z"
   },
   {
    "duration": 66,
    "start_time": "2024-08-18T08:59:10.798Z"
   },
   {
    "duration": 61,
    "start_time": "2024-08-18T09:00:01.727Z"
   },
   {
    "duration": 228,
    "start_time": "2024-08-18T09:02:35.175Z"
   },
   {
    "duration": 5,
    "start_time": "2024-08-18T09:02:48.690Z"
   },
   {
    "duration": 1316,
    "start_time": "2024-08-18T09:02:53.283Z"
   },
   {
    "duration": 355,
    "start_time": "2024-08-18T09:03:33.194Z"
   },
   {
    "duration": 400,
    "start_time": "2024-08-18T09:04:11.335Z"
   },
   {
    "duration": 5,
    "start_time": "2024-08-18T09:04:25.655Z"
   },
   {
    "duration": 447,
    "start_time": "2024-08-18T09:04:30.712Z"
   },
   {
    "duration": 365,
    "start_time": "2024-08-18T09:05:58.474Z"
   },
   {
    "duration": 5,
    "start_time": "2024-08-18T09:06:12.489Z"
   },
   {
    "duration": 289,
    "start_time": "2024-08-18T09:06:17.549Z"
   },
   {
    "duration": 309,
    "start_time": "2024-08-18T09:53:38.225Z"
   },
   {
    "duration": 1183,
    "start_time": "2024-08-18T09:53:45.644Z"
   },
   {
    "duration": 37,
    "start_time": "2024-08-18T09:53:46.830Z"
   },
   {
    "duration": 24,
    "start_time": "2024-08-18T09:53:46.870Z"
   },
   {
    "duration": 10,
    "start_time": "2024-08-18T09:53:46.898Z"
   },
   {
    "duration": 389,
    "start_time": "2024-08-18T09:53:46.911Z"
   },
   {
    "duration": 1754,
    "start_time": "2024-08-18T09:53:47.303Z"
   },
   {
    "duration": 8,
    "start_time": "2024-08-18T09:53:49.060Z"
   },
   {
    "duration": 8,
    "start_time": "2024-08-18T09:53:49.071Z"
   },
   {
    "duration": 7,
    "start_time": "2024-08-18T09:53:49.082Z"
   },
   {
    "duration": 54,
    "start_time": "2024-08-18T09:53:49.133Z"
   },
   {
    "duration": 443,
    "start_time": "2024-08-18T09:53:49.189Z"
   },
   {
    "duration": 1403,
    "start_time": "2024-08-18T09:53:49.634Z"
   },
   {
    "duration": 492,
    "start_time": "2024-08-18T09:53:51.040Z"
   },
   {
    "duration": 531,
    "start_time": "2024-08-18T09:53:51.536Z"
   },
   {
    "duration": 306,
    "start_time": "2024-08-18T09:53:52.069Z"
   },
   {
    "duration": 193,
    "start_time": "2024-08-18T09:53:52.433Z"
   },
   {
    "duration": 6,
    "start_time": "2024-08-18T09:54:07.816Z"
   },
   {
    "duration": 29,
    "start_time": "2024-08-18T09:54:12.306Z"
   },
   {
    "duration": 49058,
    "start_time": "2024-08-18T09:55:40.347Z"
   },
   {
    "duration": 49603,
    "start_time": "2024-08-18T09:57:15.547Z"
   },
   {
    "duration": 361,
    "start_time": "2024-08-18T09:58:11.988Z"
   },
   {
    "duration": 356,
    "start_time": "2024-08-18T09:58:22.612Z"
   },
   {
    "duration": 30,
    "start_time": "2024-08-18T09:59:13.559Z"
   },
   {
    "duration": 6,
    "start_time": "2024-08-18T10:01:12.712Z"
   },
   {
    "duration": 6,
    "start_time": "2024-08-18T10:01:24.571Z"
   },
   {
    "duration": 1738,
    "start_time": "2024-08-18T10:09:19.396Z"
   },
   {
    "duration": 424,
    "start_time": "2024-08-18T10:13:36.943Z"
   },
   {
    "duration": 437,
    "start_time": "2024-08-18T10:15:51.301Z"
   },
   {
    "duration": 65,
    "start_time": "2024-08-18T10:16:45.884Z"
   },
   {
    "duration": 85,
    "start_time": "2024-08-18T10:18:05.440Z"
   },
   {
    "duration": 54,
    "start_time": "2024-08-18T10:18:15.077Z"
   },
   {
    "duration": 82,
    "start_time": "2024-08-18T10:18:43.553Z"
   },
   {
    "duration": 88,
    "start_time": "2024-08-18T10:23:35.613Z"
   },
   {
    "duration": 34,
    "start_time": "2024-08-18T10:28:21.848Z"
   },
   {
    "duration": 30,
    "start_time": "2024-08-18T10:28:36.337Z"
   },
   {
    "duration": 6,
    "start_time": "2024-08-18T10:29:39.299Z"
   },
   {
    "duration": 66,
    "start_time": "2024-08-18T10:29:51.405Z"
   },
   {
    "duration": 607,
    "start_time": "2024-08-18T10:30:41.143Z"
   },
   {
    "duration": 641,
    "start_time": "2024-08-18T10:31:22.295Z"
   },
   {
    "duration": 5,
    "start_time": "2024-08-18T10:32:29.316Z"
   },
   {
    "duration": 42,
    "start_time": "2024-08-18T10:32:32.989Z"
   },
   {
    "duration": 494,
    "start_time": "2024-08-18T10:35:35.669Z"
   },
   {
    "duration": 26,
    "start_time": "2024-08-18T10:37:06.938Z"
   },
   {
    "duration": 55,
    "start_time": "2024-08-18T10:38:37.938Z"
   },
   {
    "duration": 44,
    "start_time": "2024-08-18T10:39:20.729Z"
   },
   {
    "duration": 65,
    "start_time": "2024-08-18T10:40:20.520Z"
   },
   {
    "duration": 13,
    "start_time": "2024-08-18T10:41:18.108Z"
   },
   {
    "duration": 820,
    "start_time": "2024-08-18T10:41:53.614Z"
   },
   {
    "duration": 5,
    "start_time": "2024-08-18T10:42:15.730Z"
   },
   {
    "duration": 1181,
    "start_time": "2024-08-18T10:42:24.363Z"
   },
   {
    "duration": 606,
    "start_time": "2024-08-18T10:42:46.628Z"
   },
   {
    "duration": 718,
    "start_time": "2024-08-18T10:42:59.517Z"
   },
   {
    "duration": 508,
    "start_time": "2024-08-18T10:56:04.125Z"
   },
   {
    "duration": 27,
    "start_time": "2024-08-18T11:11:30.515Z"
   },
   {
    "duration": 28,
    "start_time": "2024-08-18T11:13:16.813Z"
   },
   {
    "duration": 447,
    "start_time": "2024-08-18T11:13:38.609Z"
   },
   {
    "duration": 9,
    "start_time": "2024-08-18T11:14:16.357Z"
   },
   {
    "duration": 34,
    "start_time": "2024-08-18T11:14:37.637Z"
   },
   {
    "duration": 461,
    "start_time": "2024-08-18T11:14:55.402Z"
   },
   {
    "duration": 17,
    "start_time": "2024-08-18T11:15:55.053Z"
   },
   {
    "duration": 1064,
    "start_time": "2024-08-18T11:30:49.312Z"
   },
   {
    "duration": 16,
    "start_time": "2024-08-18T11:33:57.448Z"
   },
   {
    "duration": 20,
    "start_time": "2024-08-18T11:46:30.611Z"
   },
   {
    "duration": 22,
    "start_time": "2024-08-18T11:47:56.399Z"
   },
   {
    "duration": 6,
    "start_time": "2024-08-18T11:48:40.940Z"
   },
   {
    "duration": 12,
    "start_time": "2024-08-18T11:48:53.574Z"
   },
   {
    "duration": 6,
    "start_time": "2024-08-18T11:49:00.544Z"
   },
   {
    "duration": 25,
    "start_time": "2024-08-18T11:49:10.257Z"
   },
   {
    "duration": 38,
    "start_time": "2024-08-18T11:49:23.666Z"
   },
   {
    "duration": 13,
    "start_time": "2024-08-18T11:49:30.431Z"
   },
   {
    "duration": 6,
    "start_time": "2024-08-18T11:49:37.704Z"
   },
   {
    "duration": 5,
    "start_time": "2024-08-18T11:49:48.123Z"
   },
   {
    "duration": 20,
    "start_time": "2024-08-18T11:49:54.124Z"
   },
   {
    "duration": 6,
    "start_time": "2024-08-18T11:49:57.321Z"
   },
   {
    "duration": 18,
    "start_time": "2024-08-18T11:50:08.278Z"
   },
   {
    "duration": 6,
    "start_time": "2024-08-18T11:50:11.390Z"
   },
   {
    "duration": 15,
    "start_time": "2024-08-18T11:50:17.634Z"
   },
   {
    "duration": 6,
    "start_time": "2024-08-18T11:50:20.779Z"
   },
   {
    "duration": 14,
    "start_time": "2024-08-18T11:50:30.231Z"
   },
   {
    "duration": 6,
    "start_time": "2024-08-18T11:50:34.187Z"
   },
   {
    "duration": 15,
    "start_time": "2024-08-18T11:50:46.260Z"
   },
   {
    "duration": 6,
    "start_time": "2024-08-18T11:50:50.793Z"
   },
   {
    "duration": 20,
    "start_time": "2024-08-18T12:03:56.954Z"
   },
   {
    "duration": 6,
    "start_time": "2024-08-18T12:03:59.865Z"
   },
   {
    "duration": 13,
    "start_time": "2024-08-18T12:04:26.036Z"
   },
   {
    "duration": 6,
    "start_time": "2024-08-18T12:04:36.447Z"
   },
   {
    "duration": 14,
    "start_time": "2024-08-18T12:04:44.001Z"
   },
   {
    "duration": 6,
    "start_time": "2024-08-18T12:04:46.838Z"
   },
   {
    "duration": 23,
    "start_time": "2024-08-18T12:06:30.658Z"
   },
   {
    "duration": 58,
    "start_time": "2024-08-18T12:07:40.949Z"
   },
   {
    "duration": 28,
    "start_time": "2024-08-18T12:08:43.275Z"
   },
   {
    "duration": 6,
    "start_time": "2024-08-18T12:08:56.522Z"
   },
   {
    "duration": 25,
    "start_time": "2024-08-18T12:09:03.532Z"
   },
   {
    "duration": 6,
    "start_time": "2024-08-18T12:09:55.774Z"
   },
   {
    "duration": 3789,
    "start_time": "2024-08-18T12:10:00.243Z"
   },
   {
    "duration": 1184,
    "start_time": "2024-08-18T12:29:42.983Z"
   },
   {
    "duration": 38,
    "start_time": "2024-08-18T12:29:44.170Z"
   },
   {
    "duration": 28,
    "start_time": "2024-08-18T12:29:44.211Z"
   },
   {
    "duration": 11,
    "start_time": "2024-08-18T12:29:44.243Z"
   },
   {
    "duration": 381,
    "start_time": "2024-08-18T12:29:44.256Z"
   },
   {
    "duration": 3195,
    "start_time": "2024-08-18T12:29:44.640Z"
   },
   {
    "duration": 8,
    "start_time": "2024-08-18T12:29:47.838Z"
   },
   {
    "duration": 9,
    "start_time": "2024-08-18T12:29:47.849Z"
   },
   {
    "duration": 9,
    "start_time": "2024-08-18T12:29:47.860Z"
   },
   {
    "duration": 90,
    "start_time": "2024-08-18T12:29:47.875Z"
   },
   {
    "duration": 482,
    "start_time": "2024-08-18T12:29:47.968Z"
   },
   {
    "duration": 1223,
    "start_time": "2024-08-18T12:29:48.453Z"
   },
   {
    "duration": 83,
    "start_time": "2024-08-18T12:30:11.086Z"
   },
   {
    "duration": 88,
    "start_time": "2024-08-18T12:31:24.554Z"
   },
   {
    "duration": 410,
    "start_time": "2024-08-18T12:31:46.742Z"
   },
   {
    "duration": 1594,
    "start_time": "2024-08-18T12:32:33.456Z"
   },
   {
    "duration": 4,
    "start_time": "2024-08-18T12:33:18.405Z"
   },
   {
    "duration": 5,
    "start_time": "2024-08-18T12:35:06.792Z"
   },
   {
    "duration": 1183,
    "start_time": "2024-08-18T12:35:28.152Z"
   },
   {
    "duration": 1194,
    "start_time": "2024-08-18T12:35:37.980Z"
   },
   {
    "duration": 939,
    "start_time": "2024-08-18T12:35:50.606Z"
   },
   {
    "duration": 4,
    "start_time": "2024-08-18T12:35:56.546Z"
   },
   {
    "duration": 5,
    "start_time": "2024-08-18T12:36:00.190Z"
   },
   {
    "duration": 1008,
    "start_time": "2024-08-18T12:36:52.594Z"
   },
   {
    "duration": 1598,
    "start_time": "2024-08-18T12:37:38.237Z"
   },
   {
    "duration": 4,
    "start_time": "2024-08-18T12:37:45.368Z"
   },
   {
    "duration": 5,
    "start_time": "2024-08-18T12:37:48.337Z"
   },
   {
    "duration": 1750,
    "start_time": "2024-08-18T12:38:17.715Z"
   },
   {
    "duration": 1714,
    "start_time": "2024-08-18T12:38:26.458Z"
   },
   {
    "duration": 4,
    "start_time": "2024-08-18T12:38:31.501Z"
   },
   {
    "duration": 6,
    "start_time": "2024-08-18T12:38:34.265Z"
   },
   {
    "duration": 27,
    "start_time": "2024-08-18T12:40:30.351Z"
   },
   {
    "duration": 41,
    "start_time": "2024-08-18T12:41:14.101Z"
   },
   {
    "duration": 19,
    "start_time": "2024-08-18T12:41:31.581Z"
   },
   {
    "duration": 5,
    "start_time": "2024-08-18T12:41:44.506Z"
   },
   {
    "duration": 9,
    "start_time": "2024-08-18T12:43:35.148Z"
   },
   {
    "duration": 8,
    "start_time": "2024-08-18T12:43:45.250Z"
   },
   {
    "duration": 18,
    "start_time": "2024-08-18T12:44:17.041Z"
   },
   {
    "duration": 6,
    "start_time": "2024-08-18T12:44:21.178Z"
   },
   {
    "duration": 76,
    "start_time": "2024-08-18T12:45:52.298Z"
   },
   {
    "duration": 60,
    "start_time": "2024-08-18T12:46:44.143Z"
   },
   {
    "duration": 19,
    "start_time": "2024-08-18T12:47:11.312Z"
   },
   {
    "duration": 67,
    "start_time": "2024-08-18T12:47:26.580Z"
   },
   {
    "duration": 327,
    "start_time": "2024-08-18T12:48:44.645Z"
   },
   {
    "duration": 347,
    "start_time": "2024-08-18T12:48:52.440Z"
   },
   {
    "duration": 1701,
    "start_time": "2024-08-18T12:49:42.131Z"
   },
   {
    "duration": 5,
    "start_time": "2024-08-18T12:49:55.310Z"
   },
   {
    "duration": 45,
    "start_time": "2024-08-18T12:51:31.358Z"
   },
   {
    "duration": 31,
    "start_time": "2024-08-18T12:54:06.469Z"
   },
   {
    "duration": 7,
    "start_time": "2024-08-18T12:54:18.980Z"
   },
   {
    "duration": 1177,
    "start_time": "2024-08-18T13:07:20.236Z"
   },
   {
    "duration": 32,
    "start_time": "2024-08-18T13:07:21.416Z"
   },
   {
    "duration": 25,
    "start_time": "2024-08-18T13:07:21.450Z"
   },
   {
    "duration": 11,
    "start_time": "2024-08-18T13:07:21.478Z"
   },
   {
    "duration": 400,
    "start_time": "2024-08-18T13:07:21.494Z"
   },
   {
    "duration": 1739,
    "start_time": "2024-08-18T13:07:21.897Z"
   },
   {
    "duration": 8,
    "start_time": "2024-08-18T13:07:23.640Z"
   },
   {
    "duration": 9,
    "start_time": "2024-08-18T13:07:23.650Z"
   },
   {
    "duration": 8,
    "start_time": "2024-08-18T13:07:23.662Z"
   },
   {
    "duration": 99,
    "start_time": "2024-08-18T13:07:23.673Z"
   },
   {
    "duration": 476,
    "start_time": "2024-08-18T13:07:23.775Z"
   },
   {
    "duration": 1703,
    "start_time": "2024-08-18T13:07:24.253Z"
   },
   {
    "duration": 512,
    "start_time": "2024-08-18T13:07:25.959Z"
   },
   {
    "duration": 175,
    "start_time": "2024-08-18T13:07:26.476Z"
   },
   {
    "duration": 3832,
    "start_time": "2024-08-18T13:10:23.001Z"
   },
   {
    "duration": 47,
    "start_time": "2024-08-18T13:11:21.714Z"
   },
   {
    "duration": 31,
    "start_time": "2024-08-18T13:11:45.516Z"
   },
   {
    "duration": 35,
    "start_time": "2024-08-18T13:12:05.430Z"
   },
   {
    "duration": 31,
    "start_time": "2024-08-18T13:12:17.892Z"
   },
   {
    "duration": 339,
    "start_time": "2024-08-18T13:13:37.053Z"
   },
   {
    "duration": 1767,
    "start_time": "2024-08-18T13:17:33.769Z"
   },
   {
    "duration": 6,
    "start_time": "2024-08-18T13:23:40.565Z"
   },
   {
    "duration": 619,
    "start_time": "2024-08-18T13:23:58.961Z"
   },
   {
    "duration": 1672,
    "start_time": "2024-08-18T13:25:24.165Z"
   },
   {
    "duration": 328,
    "start_time": "2024-08-18T13:36:03.981Z"
   },
   {
    "duration": 1739,
    "start_time": "2024-08-18T13:36:20.235Z"
   },
   {
    "duration": 8,
    "start_time": "2024-08-18T13:36:25.699Z"
   },
   {
    "duration": 178,
    "start_time": "2024-08-18T13:37:18.946Z"
   },
   {
    "duration": 604,
    "start_time": "2024-08-18T13:46:17.475Z"
   },
   {
    "duration": 616,
    "start_time": "2024-08-18T13:46:28.727Z"
   },
   {
    "duration": 618,
    "start_time": "2024-08-18T13:46:43.114Z"
   },
   {
    "duration": 472,
    "start_time": "2024-08-18T13:47:02.285Z"
   },
   {
    "duration": 1673,
    "start_time": "2024-08-18T13:47:12.266Z"
   },
   {
    "duration": 265,
    "start_time": "2024-08-18T14:07:21.849Z"
   },
   {
    "duration": 1244,
    "start_time": "2024-08-18T14:07:33.957Z"
   },
   {
    "duration": 1710,
    "start_time": "2024-08-18T14:07:48.754Z"
   },
   {
    "duration": 961,
    "start_time": "2024-08-18T14:08:07.006Z"
   },
   {
    "duration": 1317,
    "start_time": "2024-08-18T14:08:24.515Z"
   },
   {
    "duration": 1333,
    "start_time": "2024-08-18T14:08:30.765Z"
   },
   {
    "duration": 1478,
    "start_time": "2024-08-18T14:08:44.133Z"
   },
   {
    "duration": 434,
    "start_time": "2024-08-18T14:09:09.447Z"
   },
   {
    "duration": 1035,
    "start_time": "2024-08-18T14:09:22.529Z"
   },
   {
    "duration": 1232,
    "start_time": "2024-08-18T14:09:38.167Z"
   },
   {
    "duration": 1227,
    "start_time": "2024-08-18T14:09:58.206Z"
   },
   {
    "duration": 1214,
    "start_time": "2024-08-18T14:10:13.869Z"
   },
   {
    "duration": 1250,
    "start_time": "2024-08-18T14:10:21.686Z"
   },
   {
    "duration": 10,
    "start_time": "2024-08-18T14:12:05.152Z"
   },
   {
    "duration": 1215,
    "start_time": "2024-08-18T14:12:27.282Z"
   },
   {
    "duration": 1318,
    "start_time": "2024-08-18T14:12:33.736Z"
   },
   {
    "duration": 1233,
    "start_time": "2024-08-18T14:12:39.904Z"
   },
   {
    "duration": 1338,
    "start_time": "2024-08-18T14:14:01.606Z"
   },
   {
    "duration": 4925,
    "start_time": "2024-08-18T14:14:22.084Z"
   },
   {
    "duration": 1189,
    "start_time": "2024-08-18T14:14:46.047Z"
   },
   {
    "duration": 3496,
    "start_time": "2024-08-18T14:14:54.392Z"
   },
   {
    "duration": 3336,
    "start_time": "2024-08-18T14:15:25.814Z"
   },
   {
    "duration": 647,
    "start_time": "2024-08-18T14:17:05.823Z"
   },
   {
    "duration": 651,
    "start_time": "2024-08-18T14:17:16.578Z"
   },
   {
    "duration": 1352,
    "start_time": "2024-08-18T14:18:39.524Z"
   },
   {
    "duration": 233,
    "start_time": "2024-08-18T14:19:40.584Z"
   },
   {
    "duration": 402,
    "start_time": "2024-08-18T14:20:05.136Z"
   },
   {
    "duration": 495,
    "start_time": "2024-08-18T14:20:12.657Z"
   },
   {
    "duration": 359,
    "start_time": "2024-08-18T14:20:20.840Z"
   },
   {
    "duration": 347,
    "start_time": "2024-08-18T14:20:28.305Z"
   },
   {
    "duration": 782,
    "start_time": "2024-08-18T14:20:35.226Z"
   },
   {
    "duration": 389,
    "start_time": "2024-08-18T14:20:45.969Z"
   },
   {
    "duration": 524,
    "start_time": "2024-08-18T14:22:57.115Z"
   },
   {
    "duration": 1204,
    "start_time": "2024-08-18T14:35:43.857Z"
   },
   {
    "duration": 1148,
    "start_time": "2024-08-18T14:37:38.999Z"
   },
   {
    "duration": 1122,
    "start_time": "2024-08-18T14:37:51.840Z"
   },
   {
    "duration": 1226,
    "start_time": "2024-08-18T14:38:05.009Z"
   },
   {
    "duration": 1159,
    "start_time": "2024-08-18T14:38:16.404Z"
   },
   {
    "duration": 1214,
    "start_time": "2024-08-18T14:38:29.821Z"
   },
   {
    "duration": 1684,
    "start_time": "2024-08-18T14:38:52.057Z"
   },
   {
    "duration": 987,
    "start_time": "2024-08-18T14:39:04.646Z"
   },
   {
    "duration": 995,
    "start_time": "2024-08-18T14:39:14.783Z"
   },
   {
    "duration": 1154,
    "start_time": "2024-08-18T14:39:23.223Z"
   },
   {
    "duration": 1213,
    "start_time": "2024-08-18T14:39:34.732Z"
   },
   {
    "duration": 1216,
    "start_time": "2024-08-18T14:39:43.418Z"
   },
   {
    "duration": 2865,
    "start_time": "2024-08-18T14:43:03.516Z"
   },
   {
    "duration": 6,
    "start_time": "2024-08-18T14:48:30.576Z"
   },
   {
    "duration": 6,
    "start_time": "2024-08-18T14:49:05.914Z"
   },
   {
    "duration": 81767,
    "start_time": "2024-08-18T14:49:23.519Z"
   },
   {
    "duration": 9405,
    "start_time": "2024-08-18T14:52:07.236Z"
   },
   {
    "duration": 11307,
    "start_time": "2024-08-18T14:54:07.040Z"
   },
   {
    "duration": 81,
    "start_time": "2024-08-18T14:55:15.180Z"
   },
   {
    "duration": 12,
    "start_time": "2024-08-19T04:10:08.880Z"
   },
   {
    "duration": 3,
    "start_time": "2024-08-19T04:16:02.441Z"
   },
   {
    "duration": 310,
    "start_time": "2024-08-19T04:16:06.590Z"
   },
   {
    "duration": 5155,
    "start_time": "2024-08-19T04:16:28.693Z"
   },
   {
    "duration": 38,
    "start_time": "2024-08-19T04:16:33.853Z"
   },
   {
    "duration": 26,
    "start_time": "2024-08-19T04:16:33.894Z"
   },
   {
    "duration": 12,
    "start_time": "2024-08-19T04:16:33.925Z"
   },
   {
    "duration": 394,
    "start_time": "2024-08-19T04:16:33.940Z"
   },
   {
    "duration": 1809,
    "start_time": "2024-08-19T04:16:34.337Z"
   },
   {
    "duration": 8,
    "start_time": "2024-08-19T04:16:36.149Z"
   },
   {
    "duration": 8,
    "start_time": "2024-08-19T04:16:36.160Z"
   },
   {
    "duration": 38,
    "start_time": "2024-08-19T04:16:36.173Z"
   },
   {
    "duration": 55,
    "start_time": "2024-08-19T04:16:36.217Z"
   },
   {
    "duration": 659,
    "start_time": "2024-08-19T04:16:36.275Z"
   },
   {
    "duration": 1394,
    "start_time": "2024-08-19T04:16:36.937Z"
   },
   {
    "duration": 534,
    "start_time": "2024-08-19T04:16:38.335Z"
   },
   {
    "duration": 636,
    "start_time": "2024-08-19T04:16:38.872Z"
   },
   {
    "duration": 275,
    "start_time": "2024-08-19T04:16:39.511Z"
   },
   {
    "duration": 1465,
    "start_time": "2024-08-19T04:17:34.743Z"
   },
   {
    "duration": 27,
    "start_time": "2024-08-19T04:17:38.302Z"
   },
   {
    "duration": 23,
    "start_time": "2024-08-19T04:17:41.154Z"
   },
   {
    "duration": 11,
    "start_time": "2024-08-19T04:17:45.686Z"
   },
   {
    "duration": 367,
    "start_time": "2024-08-19T04:17:50.231Z"
   },
   {
    "duration": 1800,
    "start_time": "2024-08-19T04:17:54.676Z"
   },
   {
    "duration": 9,
    "start_time": "2024-08-19T04:17:59.457Z"
   },
   {
    "duration": 8,
    "start_time": "2024-08-19T04:18:03.206Z"
   },
   {
    "duration": 9,
    "start_time": "2024-08-19T04:18:06.357Z"
   },
   {
    "duration": 57,
    "start_time": "2024-08-19T04:18:09.080Z"
   },
   {
    "duration": 605,
    "start_time": "2024-08-19T04:18:12.859Z"
   },
   {
    "duration": 1293,
    "start_time": "2024-08-19T04:18:19.220Z"
   },
   {
    "duration": 372,
    "start_time": "2024-08-19T04:18:26.396Z"
   },
   {
    "duration": 518,
    "start_time": "2024-08-19T04:18:30.799Z"
   },
   {
    "duration": 192,
    "start_time": "2024-08-19T04:18:36.148Z"
   },
   {
    "duration": 6,
    "start_time": "2024-08-19T04:26:44.135Z"
   },
   {
    "duration": 21,
    "start_time": "2024-08-19T04:26:47.018Z"
   },
   {
    "duration": 21,
    "start_time": "2024-08-19T04:26:49.553Z"
   },
   {
    "duration": 9,
    "start_time": "2024-08-19T04:26:55.066Z"
   },
   {
    "duration": 344,
    "start_time": "2024-08-19T04:26:58.661Z"
   },
   {
    "duration": 1794,
    "start_time": "2024-08-19T04:27:02.848Z"
   },
   {
    "duration": 11,
    "start_time": "2024-08-19T04:27:07.174Z"
   },
   {
    "duration": 8,
    "start_time": "2024-08-19T04:27:09.829Z"
   },
   {
    "duration": 7,
    "start_time": "2024-08-19T04:27:12.474Z"
   },
   {
    "duration": 53,
    "start_time": "2024-08-19T04:27:14.866Z"
   },
   {
    "duration": 636,
    "start_time": "2024-08-19T04:27:17.845Z"
   },
   {
    "duration": 1235,
    "start_time": "2024-08-19T04:27:23.014Z"
   },
   {
    "duration": 396,
    "start_time": "2024-08-19T04:27:30.010Z"
   },
   {
    "duration": 529,
    "start_time": "2024-08-19T04:27:33.292Z"
   },
   {
    "duration": 597,
    "start_time": "2024-08-19T04:28:00.853Z"
   },
   {
    "duration": 83646,
    "start_time": "2024-08-19T04:28:07.539Z"
   },
   {
    "duration": 483,
    "start_time": "2024-08-19T04:29:31.424Z"
   },
   {
    "duration": 11591,
    "start_time": "2024-08-19T04:29:46.601Z"
   },
   {
    "duration": 84,
    "start_time": "2024-08-19T04:30:08.310Z"
   },
   {
    "duration": 81,
    "start_time": "2024-08-19T04:31:11.764Z"
   },
   {
    "duration": 19200,
    "start_time": "2024-08-19T04:31:38.430Z"
   },
   {
    "duration": 93,
    "start_time": "2024-08-19T04:31:57.735Z"
   },
   {
    "duration": 309,
    "start_time": "2024-08-21T03:29:24.699Z"
   },
   {
    "duration": 21,
    "start_time": "2024-08-21T03:29:36.721Z"
   },
   {
    "duration": 5286,
    "start_time": "2024-08-21T03:29:39.616Z"
   },
   {
    "duration": 38,
    "start_time": "2024-08-21T03:29:44.906Z"
   },
   {
    "duration": 16,
    "start_time": "2024-08-21T03:29:46.382Z"
   },
   {
    "duration": 5327,
    "start_time": "2024-08-22T00:54:42.941Z"
   },
   {
    "duration": 38,
    "start_time": "2024-08-22T00:54:48.273Z"
   },
   {
    "duration": 26,
    "start_time": "2024-08-22T00:54:48.314Z"
   },
   {
    "duration": 35,
    "start_time": "2024-08-22T00:54:48.344Z"
   },
   {
    "duration": 380,
    "start_time": "2024-08-22T00:54:48.381Z"
   },
   {
    "duration": 1795,
    "start_time": "2024-08-22T00:54:48.768Z"
   },
   {
    "duration": 9,
    "start_time": "2024-08-22T00:54:50.568Z"
   },
   {
    "duration": 8,
    "start_time": "2024-08-22T00:54:50.579Z"
   },
   {
    "duration": 7,
    "start_time": "2024-08-22T00:54:50.590Z"
   },
   {
    "duration": 94,
    "start_time": "2024-08-22T00:54:50.603Z"
   },
   {
    "duration": 610,
    "start_time": "2024-08-22T00:54:50.700Z"
   },
   {
    "duration": 1387,
    "start_time": "2024-08-22T00:54:51.313Z"
   },
   {
    "duration": 510,
    "start_time": "2024-08-22T00:54:52.703Z"
   },
   {
    "duration": 657,
    "start_time": "2024-08-22T00:54:53.216Z"
   },
   {
    "duration": 655,
    "start_time": "2024-08-22T00:54:53.876Z"
   },
   {
    "duration": 19164,
    "start_time": "2024-08-22T00:54:54.534Z"
   },
   {
    "duration": 437,
    "start_time": "2024-08-22T00:55:13.702Z"
   },
   {
    "duration": 0,
    "start_time": "2024-08-22T00:55:14.143Z"
   },
   {
    "duration": 230,
    "start_time": "2024-08-22T00:56:05.199Z"
   },
   {
    "duration": 332,
    "start_time": "2024-08-22T00:56:14.283Z"
   },
   {
    "duration": 234,
    "start_time": "2024-08-22T00:57:56.542Z"
   }
  ],
  "kernelspec": {
   "display_name": "Python 3 (ipykernel)",
   "language": "python",
   "name": "python3"
  },
  "language_info": {
   "codemirror_mode": {
    "name": "ipython",
    "version": 3
   },
   "file_extension": ".py",
   "mimetype": "text/x-python",
   "name": "python",
   "nbconvert_exporter": "python",
   "pygments_lexer": "ipython3",
   "version": "3.9.19"
  },
  "toc": {
   "base_numbering": 1,
   "nav_menu": {},
   "number_sections": true,
   "sideBar": true,
   "skip_h1_title": true,
   "title_cell": "Table of Contents",
   "title_sidebar": "Contents",
   "toc_cell": false,
   "toc_position": {},
   "toc_section_display": true,
   "toc_window_display": false
  }
 },
 "nbformat": 4,
 "nbformat_minor": 2
}
